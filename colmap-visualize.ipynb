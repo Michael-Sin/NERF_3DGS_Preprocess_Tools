{
 "cells": [
  {
   "cell_type": "code",
   "execution_count": 1,
   "metadata": {},
   "outputs": [
    {
     "name": "stdout",
     "output_type": "stream",
     "text": [
      "Jupyter environment detected. Enabling Open3D WebVisualizer.\n",
      "[Open3D INFO] WebRTC GUI backend enabled.\n",
      "[Open3D INFO] WebRTCWindowSystem: HTTP handshake server disabled.\n"
     ]
    }
   ],
   "source": [
    "# library\n",
    "import numpy\n",
    "numpy.float = numpy.float64\n",
    "numpy.int = numpy.int_\n",
    "import numpy as np\n",
    "import open3d as o3d\n",
    "import os.path as osp"
   ]
  },
  {
   "cell_type": "code",
   "execution_count": 2,
   "metadata": {},
   "outputs": [],
   "source": [
    "# config\n",
    "BASE_DIR = '/home/laojk/Code/Dataset/iPad-Stray-Scanner/T'\n",
    "INTRINSIC = 'odom2colmap/cameras.txt'\n",
    "EXTRINSIC = 'odom2colmap/images.txt'\n",
    "POINTS = 'odom2colmap/points3D.txt'"
   ]
  },
  {
   "cell_type": "code",
   "execution_count": 3,
   "metadata": {},
   "outputs": [],
   "source": [
    "# helper functions\n",
    "def quaternion_to_rotation_matrix(quaternion):\n",
    "    qx, qy, qz, qw = quaternion\n",
    "    rotation_matrix = np.array([[1 - 2*qy**2 - 2*qz**2, 2*qx*qy - 2*qz*qw, 2*qx*qz + 2*qy*qw],\n",
    "                               [2*qx*qy + 2*qz*qw, 1 - 2*qx**2 - 2*qz**2, 2*qy*qz - 2*qx*qw],\n",
    "                               [2*qx*qz - 2*qy*qw, 2*qy*qz + 2*qx*qw, 1 - 2*qx**2 - 2*qy**2]])\n",
    "    return rotation_matrix\n",
    "\n",
    "def create_transform_matrix(data):\n",
    "    qw, qx, qy, qz, x, y, z = data\n",
    "    rotation_matrix = quaternion_to_rotation_matrix([qx, qy, qz, qw])\n",
    "    transform_matrix = np.eye(4)\n",
    "    transform_matrix[0:3, 0:3] = rotation_matrix\n",
    "    transform_matrix[0:3, 3] = [x, y, z]\n",
    "    transform_matrix[3, 3] = 1\n",
    "    return transform_matrix\n",
    "\n",
    "def generate_gradient_color(start_color, end_color, length):\n",
    "    start_color = np.array(start_color)\n",
    "    end_color = np.array(end_color)\n",
    "    color_range = end_color - start_color\n",
    "    step_size = 1 / (length - 1)\n",
    "\n",
    "    gradient_color = lambda step: (start_color + color_range * step * step_size) / 255.0\n",
    "    return gradient_color"
   ]
  },
  {
   "cell_type": "code",
   "execution_count": 4,
   "metadata": {},
   "outputs": [],
   "source": [
    "# read camera intrinsic\n",
    "camera_matrix = np.zeros((3, 3))\n",
    "image_h, image_w = 0, 0\n",
    "with open(osp.join(BASE_DIR, INTRINSIC), 'r') as f:\n",
    "    for line in f.readlines():\n",
    "        if line.startswith('#'):\n",
    "            continue\n",
    "        line = line.split()\n",
    "        if line[0] == '1':\n",
    "            camera_matrix[0, 0] = float(line[4])\n",
    "            camera_matrix[1, 1] = float(line[4])\n",
    "            camera_matrix[0, 2] = float(line[5])\n",
    "            camera_matrix[1, 2] = float(line[6])\n",
    "            camera_matrix[2, 2] = 1\n",
    "            image_w = int(line[2])\n",
    "            image_h = int(line[3])\n",
    "            break\n",
    "camera_matrix = o3d.camera.PinholeCameraIntrinsic(image_w, image_h, camera_matrix)"
   ]
  },
  {
   "cell_type": "code",
   "execution_count": 5,
   "metadata": {},
   "outputs": [],
   "source": [
    "# read camera extrinsic\n",
    "extrinsic = []\n",
    "with open(osp.join(BASE_DIR, EXTRINSIC), 'r') as f:\n",
    "    line_count = 0\n",
    "    for line in f.readlines():\n",
    "        if line.startswith('#'):\n",
    "            continue\n",
    "        line_count += 1\n",
    "        if line_count % 2 == 0:\n",
    "            continue\n",
    "        line = line.split()\n",
    "        extrinsic.append(create_transform_matrix([float(i) for i in line[1:8]]))\n",
    "extrinsic = np.stack(extrinsic)"
   ]
  },
  {
   "cell_type": "code",
   "execution_count": 6,
   "metadata": {},
   "outputs": [],
   "source": [
    "# read points\n",
    "points = []\n",
    "with open(osp.join(BASE_DIR, POINTS), 'r') as f:\n",
    "    for line in f.readlines():\n",
    "        if line.startswith('#'):\n",
    "            continue\n",
    "        line = line.split()\n",
    "        points.append([np.float64(i) for i in line[1:4]])\n",
    "points = np.stack(points)"
   ]
  },
  {
   "cell_type": "code",
   "execution_count": 7,
   "metadata": {},
   "outputs": [],
   "source": [
    "# visualize\n",
    "base_frame = o3d.geometry.TriangleMesh.create_coordinate_frame(size=2, origin=[0, 0, 0])\n",
    "\n",
    "cameras = []\n",
    "color = generate_gradient_color([208, 16, 76], [46, 169, 223], len(extrinsic))\n",
    "for i in range(len(extrinsic)):\n",
    "    pose = extrinsic[i]\n",
    "    camera = o3d.geometry.LineSet.create_camera_visualization(camera_matrix, pose, scale=1)\n",
    "    camera.paint_uniform_color(color(i))\n",
    "    cameras.append(camera)\n",
    "\n",
    "pcd = o3d.geometry.PointCloud()\n",
    "pcd.points = o3d.utility.Vector3dVector(points)\n",
    "pcd.paint_uniform_color([0.1, 0.9, 0.1])\n",
    "\n",
    "o3d.visualization.draw_geometries([base_frame, pcd] + cameras)"
   ]
  }
 ],
 "metadata": {
  "kernelspec": {
   "display_name": "open3d",
   "language": "python",
   "name": "python3"
  },
  "language_info": {
   "codemirror_mode": {
    "name": "ipython",
    "version": 3
   },
   "file_extension": ".py",
   "mimetype": "text/x-python",
   "name": "python",
   "nbconvert_exporter": "python",
   "pygments_lexer": "ipython3",
   "version": "3.10.13"
  }
 },
 "nbformat": 4,
 "nbformat_minor": 2
}
